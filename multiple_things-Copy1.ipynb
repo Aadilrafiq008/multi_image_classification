{
 "cells": [
  {
   "cell_type": "code",
   "execution_count": 10,
   "id": "45cba52a",
   "metadata": {},
   "outputs": [],
   "source": [
    "import tensorflow as tf\n",
    "from tensorflow import keras\n",
    "from keras import layers\n",
    "from keras.models import Sequential\n",
    "import matplotlib.pyplot as plt\n",
    "import seaborn as sb\n",
    "from sklearn.model_selection import train_test_split\n",
    "from sklearn.compose import make_column_transformer\n",
    "from tensorflow import math\n",
    "from sklearn.preprocessing import MinMaxScaler, OneHotEncoder\n",
    "from keras.utils.vis_utils import plot_model\n",
    "import pandas as pd"
   ]
  },
  {
   "cell_type": "code",
   "execution_count": 17,
   "id": "6109177f",
   "metadata": {},
   "outputs": [
    {
     "data": {
      "text/plain": [
       "type                     0\n",
       "fixed acidity           10\n",
       "volatile acidity         8\n",
       "citric acid              3\n",
       "residual sugar           2\n",
       "chlorides                2\n",
       "free sulfur dioxide      0\n",
       "total sulfur dioxide     0\n",
       "density                  0\n",
       "pH                       9\n",
       "sulphates                4\n",
       "alcohol                  0\n",
       "quality                  0\n",
       "dtype: int64"
      ]
     },
     "execution_count": 17,
     "metadata": {},
     "output_type": "execute_result"
    }
   ],
   "source": [
    "winedf = pd.read_csv('winequalityN.csv')\n",
    "winedf.isnull().sum()"
   ]
  },
  {
   "cell_type": "code",
   "execution_count": 21,
   "id": "dc19f61d",
   "metadata": {},
   "outputs": [
    {
     "data": {
      "text/plain": [
       "type                    0\n",
       "fixed acidity           0\n",
       "volatile acidity        0\n",
       "citric acid             0\n",
       "residual sugar          0\n",
       "chlorides               0\n",
       "free sulfur dioxide     0\n",
       "total sulfur dioxide    0\n",
       "density                 0\n",
       "pH                      0\n",
       "sulphates               0\n",
       "alcohol                 0\n",
       "quality                 0\n",
       "dtype: int64"
      ]
     },
     "execution_count": 21,
     "metadata": {},
     "output_type": "execute_result"
    }
   ],
   "source": [
    "winedf = winedf.dropna()\n",
    "winedf.isnull().sum()"
   ]
  },
  {
   "cell_type": "code",
   "execution_count": 22,
   "id": "898540a5",
   "metadata": {},
   "outputs": [],
   "source": [
    "winedf.rename(columns={\n",
    "    'type': 'wines'\n",
    "},\n",
    "inplace=True\n",
    "              \n",
    ")\n",
    "              inplace=True)"
   ]
  },
  {
   "cell_type": "code",
   "execution_count": 31,
   "id": "d689221f",
   "metadata": {},
   "outputs": [],
   "source": [
    "winedf.loc[winedf['wines'] == 'white', 'wines'] = 1\n",
    "winedf.loc[winedf['wines'] == 'red', 'wines'] = 0\n",
    "# wine_data.loc[wine_data[\"white_wine\"] == \"white\", \"white_wine\"] = 1\n",
    "# wine_data.loc[wine_data[\"white_wine\"] == \"red\", \"white_wine\"] = 0\n",
    "# wine_data"
   ]
  },
  {
   "cell_type": "code",
   "execution_count": 34,
   "id": "3556859e",
   "metadata": {},
   "outputs": [],
   "source": [
    "winedf.loc[winedf['quality'] <= 6, 'quality'] = 0\n",
    "winedf.loc[winedf['quality'] >= 7, 'quality'] = 1"
   ]
  },
  {
   "cell_type": "code",
   "execution_count": 35,
   "id": "2cec9aca",
   "metadata": {},
   "outputs": [
    {
     "data": {
      "text/html": [
       "<div>\n",
       "<style scoped>\n",
       "    .dataframe tbody tr th:only-of-type {\n",
       "        vertical-align: middle;\n",
       "    }\n",
       "\n",
       "    .dataframe tbody tr th {\n",
       "        vertical-align: top;\n",
       "    }\n",
       "\n",
       "    .dataframe thead th {\n",
       "        text-align: right;\n",
       "    }\n",
       "</style>\n",
       "<table border=\"1\" class=\"dataframe\">\n",
       "  <thead>\n",
       "    <tr style=\"text-align: right;\">\n",
       "      <th></th>\n",
       "      <th>wines</th>\n",
       "      <th>fixed acidity</th>\n",
       "      <th>volatile acidity</th>\n",
       "      <th>citric acid</th>\n",
       "      <th>residual sugar</th>\n",
       "      <th>chlorides</th>\n",
       "      <th>free sulfur dioxide</th>\n",
       "      <th>total sulfur dioxide</th>\n",
       "      <th>density</th>\n",
       "      <th>pH</th>\n",
       "      <th>sulphates</th>\n",
       "      <th>alcohol</th>\n",
       "      <th>quality</th>\n",
       "    </tr>\n",
       "  </thead>\n",
       "  <tbody>\n",
       "    <tr>\n",
       "      <th>0</th>\n",
       "      <td>1</td>\n",
       "      <td>7.0</td>\n",
       "      <td>0.270</td>\n",
       "      <td>0.36</td>\n",
       "      <td>20.7</td>\n",
       "      <td>0.045</td>\n",
       "      <td>45.0</td>\n",
       "      <td>170.0</td>\n",
       "      <td>1.00100</td>\n",
       "      <td>3.00</td>\n",
       "      <td>0.45</td>\n",
       "      <td>8.8</td>\n",
       "      <td>0</td>\n",
       "    </tr>\n",
       "    <tr>\n",
       "      <th>1</th>\n",
       "      <td>1</td>\n",
       "      <td>6.3</td>\n",
       "      <td>0.300</td>\n",
       "      <td>0.34</td>\n",
       "      <td>1.6</td>\n",
       "      <td>0.049</td>\n",
       "      <td>14.0</td>\n",
       "      <td>132.0</td>\n",
       "      <td>0.99400</td>\n",
       "      <td>3.30</td>\n",
       "      <td>0.49</td>\n",
       "      <td>9.5</td>\n",
       "      <td>0</td>\n",
       "    </tr>\n",
       "    <tr>\n",
       "      <th>2</th>\n",
       "      <td>1</td>\n",
       "      <td>8.1</td>\n",
       "      <td>0.280</td>\n",
       "      <td>0.40</td>\n",
       "      <td>6.9</td>\n",
       "      <td>0.050</td>\n",
       "      <td>30.0</td>\n",
       "      <td>97.0</td>\n",
       "      <td>0.99510</td>\n",
       "      <td>3.26</td>\n",
       "      <td>0.44</td>\n",
       "      <td>10.1</td>\n",
       "      <td>0</td>\n",
       "    </tr>\n",
       "    <tr>\n",
       "      <th>3</th>\n",
       "      <td>1</td>\n",
       "      <td>7.2</td>\n",
       "      <td>0.230</td>\n",
       "      <td>0.32</td>\n",
       "      <td>8.5</td>\n",
       "      <td>0.058</td>\n",
       "      <td>47.0</td>\n",
       "      <td>186.0</td>\n",
       "      <td>0.99560</td>\n",
       "      <td>3.19</td>\n",
       "      <td>0.40</td>\n",
       "      <td>9.9</td>\n",
       "      <td>0</td>\n",
       "    </tr>\n",
       "    <tr>\n",
       "      <th>4</th>\n",
       "      <td>1</td>\n",
       "      <td>7.2</td>\n",
       "      <td>0.230</td>\n",
       "      <td>0.32</td>\n",
       "      <td>8.5</td>\n",
       "      <td>0.058</td>\n",
       "      <td>47.0</td>\n",
       "      <td>186.0</td>\n",
       "      <td>0.99560</td>\n",
       "      <td>3.19</td>\n",
       "      <td>0.40</td>\n",
       "      <td>9.9</td>\n",
       "      <td>0</td>\n",
       "    </tr>\n",
       "    <tr>\n",
       "      <th>...</th>\n",
       "      <td>...</td>\n",
       "      <td>...</td>\n",
       "      <td>...</td>\n",
       "      <td>...</td>\n",
       "      <td>...</td>\n",
       "      <td>...</td>\n",
       "      <td>...</td>\n",
       "      <td>...</td>\n",
       "      <td>...</td>\n",
       "      <td>...</td>\n",
       "      <td>...</td>\n",
       "      <td>...</td>\n",
       "      <td>...</td>\n",
       "    </tr>\n",
       "    <tr>\n",
       "      <th>6491</th>\n",
       "      <td>0</td>\n",
       "      <td>6.8</td>\n",
       "      <td>0.620</td>\n",
       "      <td>0.08</td>\n",
       "      <td>1.9</td>\n",
       "      <td>0.068</td>\n",
       "      <td>28.0</td>\n",
       "      <td>38.0</td>\n",
       "      <td>0.99651</td>\n",
       "      <td>3.42</td>\n",
       "      <td>0.82</td>\n",
       "      <td>9.5</td>\n",
       "      <td>0</td>\n",
       "    </tr>\n",
       "    <tr>\n",
       "      <th>6492</th>\n",
       "      <td>0</td>\n",
       "      <td>6.2</td>\n",
       "      <td>0.600</td>\n",
       "      <td>0.08</td>\n",
       "      <td>2.0</td>\n",
       "      <td>0.090</td>\n",
       "      <td>32.0</td>\n",
       "      <td>44.0</td>\n",
       "      <td>0.99490</td>\n",
       "      <td>3.45</td>\n",
       "      <td>0.58</td>\n",
       "      <td>10.5</td>\n",
       "      <td>0</td>\n",
       "    </tr>\n",
       "    <tr>\n",
       "      <th>6494</th>\n",
       "      <td>0</td>\n",
       "      <td>6.3</td>\n",
       "      <td>0.510</td>\n",
       "      <td>0.13</td>\n",
       "      <td>2.3</td>\n",
       "      <td>0.076</td>\n",
       "      <td>29.0</td>\n",
       "      <td>40.0</td>\n",
       "      <td>0.99574</td>\n",
       "      <td>3.42</td>\n",
       "      <td>0.75</td>\n",
       "      <td>11.0</td>\n",
       "      <td>0</td>\n",
       "    </tr>\n",
       "    <tr>\n",
       "      <th>6495</th>\n",
       "      <td>0</td>\n",
       "      <td>5.9</td>\n",
       "      <td>0.645</td>\n",
       "      <td>0.12</td>\n",
       "      <td>2.0</td>\n",
       "      <td>0.075</td>\n",
       "      <td>32.0</td>\n",
       "      <td>44.0</td>\n",
       "      <td>0.99547</td>\n",
       "      <td>3.57</td>\n",
       "      <td>0.71</td>\n",
       "      <td>10.2</td>\n",
       "      <td>0</td>\n",
       "    </tr>\n",
       "    <tr>\n",
       "      <th>6496</th>\n",
       "      <td>0</td>\n",
       "      <td>6.0</td>\n",
       "      <td>0.310</td>\n",
       "      <td>0.47</td>\n",
       "      <td>3.6</td>\n",
       "      <td>0.067</td>\n",
       "      <td>18.0</td>\n",
       "      <td>42.0</td>\n",
       "      <td>0.99549</td>\n",
       "      <td>3.39</td>\n",
       "      <td>0.66</td>\n",
       "      <td>11.0</td>\n",
       "      <td>0</td>\n",
       "    </tr>\n",
       "  </tbody>\n",
       "</table>\n",
       "<p>6463 rows × 13 columns</p>\n",
       "</div>"
      ],
      "text/plain": [
       "     wines  fixed acidity  volatile acidity  citric acid  residual sugar  ...  density    pH  sulphates  alcohol  quality\n",
       "0        1            7.0             0.270         0.36            20.7  ...  1.00100  3.00       0.45      8.8        0\n",
       "1        1            6.3             0.300         0.34             1.6  ...  0.99400  3.30       0.49      9.5        0\n",
       "2        1            8.1             0.280         0.40             6.9  ...  0.99510  3.26       0.44     10.1        0\n",
       "3        1            7.2             0.230         0.32             8.5  ...  0.99560  3.19       0.40      9.9        0\n",
       "4        1            7.2             0.230         0.32             8.5  ...  0.99560  3.19       0.40      9.9        0\n",
       "...    ...            ...               ...          ...             ...  ...      ...   ...        ...      ...      ...\n",
       "6491     0            6.8             0.620         0.08             1.9  ...  0.99651  3.42       0.82      9.5        0\n",
       "6492     0            6.2             0.600         0.08             2.0  ...  0.99490  3.45       0.58     10.5        0\n",
       "6494     0            6.3             0.510         0.13             2.3  ...  0.99574  3.42       0.75     11.0        0\n",
       "6495     0            5.9             0.645         0.12             2.0  ...  0.99547  3.57       0.71     10.2        0\n",
       "6496     0            6.0             0.310         0.47             3.6  ...  0.99549  3.39       0.66     11.0        0\n",
       "\n",
       "[6463 rows x 13 columns]"
      ]
     },
     "execution_count": 35,
     "metadata": {},
     "output_type": "execute_result"
    }
   ],
   "source": [
    "winedf"
   ]
  },
  {
   "cell_type": "code",
   "execution_count": 38,
   "id": "62bba9d3",
   "metadata": {},
   "outputs": [
    {
     "name": "stdout",
     "output_type": "stream",
     "text": [
      "<class 'pandas.core.frame.DataFrame'>\n",
      "Int64Index: 6463 entries, 0 to 6496\n",
      "Data columns (total 13 columns):\n",
      " #   Column                Non-Null Count  Dtype  \n",
      "---  ------                --------------  -----  \n",
      " 0   wines                 6463 non-null   object \n",
      " 1   fixed acidity         6463 non-null   float64\n",
      " 2   volatile acidity      6463 non-null   float64\n",
      " 3   citric acid           6463 non-null   float64\n",
      " 4   residual sugar        6463 non-null   float64\n",
      " 5   chlorides             6463 non-null   float64\n",
      " 6   free sulfur dioxide   6463 non-null   float64\n",
      " 7   total sulfur dioxide  6463 non-null   float64\n",
      " 8   density               6463 non-null   float64\n",
      " 9   pH                    6463 non-null   float64\n",
      " 10  sulphates             6463 non-null   float64\n",
      " 11  alcohol               6463 non-null   float64\n",
      " 12  quality               6463 non-null   int64  \n",
      "dtypes: float64(11), int64(1), object(1)\n",
      "memory usage: 706.9+ KB\n"
     ]
    }
   ],
   "source": [
    "winedf.info()"
   ]
  },
  {
   "cell_type": "code",
   "execution_count": 39,
   "id": "e1a7ec1a",
   "metadata": {},
   "outputs": [],
   "source": [
    "# normalizing_data\n",
    "normalize_data = make_column_transformer((\n",
    "MinMaxScaler(), [\"fixed acidity\", \"volatile acidity\", \"citric acid\",\n",
    "     \"residual sugar\", \"chlorides\", \"free sulfur dioxide\",\n",
    "     \"total sulfur dioxide\", \"density\", \"pH\", \"sulphates\",\n",
    "     \"alcohol\"]\n",
    " \n",
    ")\n",
    ")"
   ]
  },
  {
   "cell_type": "code",
   "execution_count": 40,
   "id": "bfc13b52",
   "metadata": {},
   "outputs": [
    {
     "data": {
      "text/plain": [
       "ColumnTransformer(transformers=[('minmaxscaler', MinMaxScaler(),\n",
       "                                 ['fixed acidity', 'volatile acidity',\n",
       "                                  'citric acid', 'residual sugar', 'chlorides',\n",
       "                                  'free sulfur dioxide', 'total sulfur dioxide',\n",
       "                                  'density', 'pH', 'sulphates', 'alcohol'])])"
      ]
     },
     "execution_count": 40,
     "metadata": {},
     "output_type": "execute_result"
    }
   ],
   "source": [
    "normalize_data"
   ]
  },
  {
   "cell_type": "code",
   "execution_count": 46,
   "id": "a799a84c",
   "metadata": {},
   "outputs": [
    {
     "data": {
      "text/html": [
       "<div>\n",
       "<style scoped>\n",
       "    .dataframe tbody tr th:only-of-type {\n",
       "        vertical-align: middle;\n",
       "    }\n",
       "\n",
       "    .dataframe tbody tr th {\n",
       "        vertical-align: top;\n",
       "    }\n",
       "\n",
       "    .dataframe thead th {\n",
       "        text-align: right;\n",
       "    }\n",
       "</style>\n",
       "<table border=\"1\" class=\"dataframe\">\n",
       "  <thead>\n",
       "    <tr style=\"text-align: right;\">\n",
       "      <th></th>\n",
       "      <th>wines</th>\n",
       "      <th>fixed acidity</th>\n",
       "      <th>volatile acidity</th>\n",
       "      <th>citric acid</th>\n",
       "      <th>residual sugar</th>\n",
       "      <th>chlorides</th>\n",
       "      <th>free sulfur dioxide</th>\n",
       "      <th>total sulfur dioxide</th>\n",
       "      <th>density</th>\n",
       "      <th>pH</th>\n",
       "      <th>sulphates</th>\n",
       "      <th>alcohol</th>\n",
       "    </tr>\n",
       "  </thead>\n",
       "  <tbody>\n",
       "    <tr>\n",
       "      <th>0</th>\n",
       "      <td>1</td>\n",
       "      <td>7.0</td>\n",
       "      <td>0.270</td>\n",
       "      <td>0.36</td>\n",
       "      <td>20.7</td>\n",
       "      <td>0.045</td>\n",
       "      <td>45.0</td>\n",
       "      <td>170.0</td>\n",
       "      <td>1.00100</td>\n",
       "      <td>3.00</td>\n",
       "      <td>0.45</td>\n",
       "      <td>8.8</td>\n",
       "    </tr>\n",
       "    <tr>\n",
       "      <th>1</th>\n",
       "      <td>1</td>\n",
       "      <td>6.3</td>\n",
       "      <td>0.300</td>\n",
       "      <td>0.34</td>\n",
       "      <td>1.6</td>\n",
       "      <td>0.049</td>\n",
       "      <td>14.0</td>\n",
       "      <td>132.0</td>\n",
       "      <td>0.99400</td>\n",
       "      <td>3.30</td>\n",
       "      <td>0.49</td>\n",
       "      <td>9.5</td>\n",
       "    </tr>\n",
       "    <tr>\n",
       "      <th>2</th>\n",
       "      <td>1</td>\n",
       "      <td>8.1</td>\n",
       "      <td>0.280</td>\n",
       "      <td>0.40</td>\n",
       "      <td>6.9</td>\n",
       "      <td>0.050</td>\n",
       "      <td>30.0</td>\n",
       "      <td>97.0</td>\n",
       "      <td>0.99510</td>\n",
       "      <td>3.26</td>\n",
       "      <td>0.44</td>\n",
       "      <td>10.1</td>\n",
       "    </tr>\n",
       "    <tr>\n",
       "      <th>3</th>\n",
       "      <td>1</td>\n",
       "      <td>7.2</td>\n",
       "      <td>0.230</td>\n",
       "      <td>0.32</td>\n",
       "      <td>8.5</td>\n",
       "      <td>0.058</td>\n",
       "      <td>47.0</td>\n",
       "      <td>186.0</td>\n",
       "      <td>0.99560</td>\n",
       "      <td>3.19</td>\n",
       "      <td>0.40</td>\n",
       "      <td>9.9</td>\n",
       "    </tr>\n",
       "    <tr>\n",
       "      <th>4</th>\n",
       "      <td>1</td>\n",
       "      <td>7.2</td>\n",
       "      <td>0.230</td>\n",
       "      <td>0.32</td>\n",
       "      <td>8.5</td>\n",
       "      <td>0.058</td>\n",
       "      <td>47.0</td>\n",
       "      <td>186.0</td>\n",
       "      <td>0.99560</td>\n",
       "      <td>3.19</td>\n",
       "      <td>0.40</td>\n",
       "      <td>9.9</td>\n",
       "    </tr>\n",
       "    <tr>\n",
       "      <th>...</th>\n",
       "      <td>...</td>\n",
       "      <td>...</td>\n",
       "      <td>...</td>\n",
       "      <td>...</td>\n",
       "      <td>...</td>\n",
       "      <td>...</td>\n",
       "      <td>...</td>\n",
       "      <td>...</td>\n",
       "      <td>...</td>\n",
       "      <td>...</td>\n",
       "      <td>...</td>\n",
       "      <td>...</td>\n",
       "    </tr>\n",
       "    <tr>\n",
       "      <th>6491</th>\n",
       "      <td>0</td>\n",
       "      <td>6.8</td>\n",
       "      <td>0.620</td>\n",
       "      <td>0.08</td>\n",
       "      <td>1.9</td>\n",
       "      <td>0.068</td>\n",
       "      <td>28.0</td>\n",
       "      <td>38.0</td>\n",
       "      <td>0.99651</td>\n",
       "      <td>3.42</td>\n",
       "      <td>0.82</td>\n",
       "      <td>9.5</td>\n",
       "    </tr>\n",
       "    <tr>\n",
       "      <th>6492</th>\n",
       "      <td>0</td>\n",
       "      <td>6.2</td>\n",
       "      <td>0.600</td>\n",
       "      <td>0.08</td>\n",
       "      <td>2.0</td>\n",
       "      <td>0.090</td>\n",
       "      <td>32.0</td>\n",
       "      <td>44.0</td>\n",
       "      <td>0.99490</td>\n",
       "      <td>3.45</td>\n",
       "      <td>0.58</td>\n",
       "      <td>10.5</td>\n",
       "    </tr>\n",
       "    <tr>\n",
       "      <th>6494</th>\n",
       "      <td>0</td>\n",
       "      <td>6.3</td>\n",
       "      <td>0.510</td>\n",
       "      <td>0.13</td>\n",
       "      <td>2.3</td>\n",
       "      <td>0.076</td>\n",
       "      <td>29.0</td>\n",
       "      <td>40.0</td>\n",
       "      <td>0.99574</td>\n",
       "      <td>3.42</td>\n",
       "      <td>0.75</td>\n",
       "      <td>11.0</td>\n",
       "    </tr>\n",
       "    <tr>\n",
       "      <th>6495</th>\n",
       "      <td>0</td>\n",
       "      <td>5.9</td>\n",
       "      <td>0.645</td>\n",
       "      <td>0.12</td>\n",
       "      <td>2.0</td>\n",
       "      <td>0.075</td>\n",
       "      <td>32.0</td>\n",
       "      <td>44.0</td>\n",
       "      <td>0.99547</td>\n",
       "      <td>3.57</td>\n",
       "      <td>0.71</td>\n",
       "      <td>10.2</td>\n",
       "    </tr>\n",
       "    <tr>\n",
       "      <th>6496</th>\n",
       "      <td>0</td>\n",
       "      <td>6.0</td>\n",
       "      <td>0.310</td>\n",
       "      <td>0.47</td>\n",
       "      <td>3.6</td>\n",
       "      <td>0.067</td>\n",
       "      <td>18.0</td>\n",
       "      <td>42.0</td>\n",
       "      <td>0.99549</td>\n",
       "      <td>3.39</td>\n",
       "      <td>0.66</td>\n",
       "      <td>11.0</td>\n",
       "    </tr>\n",
       "  </tbody>\n",
       "</table>\n",
       "<p>6463 rows × 12 columns</p>\n",
       "</div>"
      ],
      "text/plain": [
       "     wines  fixed acidity  volatile acidity  citric acid  ...  density    pH  sulphates  alcohol\n",
       "0        1            7.0             0.270         0.36  ...  1.00100  3.00       0.45      8.8\n",
       "1        1            6.3             0.300         0.34  ...  0.99400  3.30       0.49      9.5\n",
       "2        1            8.1             0.280         0.40  ...  0.99510  3.26       0.44     10.1\n",
       "3        1            7.2             0.230         0.32  ...  0.99560  3.19       0.40      9.9\n",
       "4        1            7.2             0.230         0.32  ...  0.99560  3.19       0.40      9.9\n",
       "...    ...            ...               ...          ...  ...      ...   ...        ...      ...\n",
       "6491     0            6.8             0.620         0.08  ...  0.99651  3.42       0.82      9.5\n",
       "6492     0            6.2             0.600         0.08  ...  0.99490  3.45       0.58     10.5\n",
       "6494     0            6.3             0.510         0.13  ...  0.99574  3.42       0.75     11.0\n",
       "6495     0            5.9             0.645         0.12  ...  0.99547  3.57       0.71     10.2\n",
       "6496     0            6.0             0.310         0.47  ...  0.99549  3.39       0.66     11.0\n",
       "\n",
       "[6463 rows x 12 columns]"
      ]
     },
     "execution_count": 46,
     "metadata": {},
     "output_type": "execute_result"
    }
   ],
   "source": [
    "X = winedf.drop('quality', axis=1)\n",
    "y = winedf['quality']\n"
   ]
  },
  {
   "cell_type": "code",
   "execution_count": 47,
   "id": "8745f570",
   "metadata": {},
   "outputs": [],
   "source": [
    "X_train, X_test, y_train, y_test = train_test_split(X, y, test_size=0.2, \n",
    "random_state=66)"
   ]
  },
  {
   "cell_type": "code",
   "execution_count": 48,
   "id": "da377fba",
   "metadata": {},
   "outputs": [],
   "source": [
    "normalize_data.fit(X_train)\n",
    "\n",
    "# Transform training and test data with normalization \n",
    "# (MinMaxScalar) \n",
    "X_train_normal = normalize_data.transform(X_train)\n",
    "X_test_normal = normalize_data.transform(X_test)"
   ]
  },
  {
   "cell_type": "code",
   "execution_count": 57,
   "id": "aefd1f95",
   "metadata": {},
   "outputs": [
    {
     "data": {
      "text/plain": [
       "[<matplotlib.lines.Line2D at 0x2720658f040>]"
      ]
     },
     "execution_count": 57,
     "metadata": {},
     "output_type": "execute_result"
    },
    {
     "data": {
      "image/png": "[encoded data removed]",
      "text/plain": [
       "<Figure size 432x288 with 1 Axes>"
      ]
     },
     "metadata": {
      "needs_background": "light"
     },
     "output_type": "display_data"
    }
   ],
   "source": [
    "sample_model = tf.cast(tf.range(-1, 15), tf.float16)\n",
    "plt.plot(sample_model)\n",
    "# samp_ten = tf.cast(tf.range(-1, 15), tf.float32)\n",
    "# plt.plot(samp_ten)"
   ]
  },
  {
   "cell_type": "code",
   "execution_count": 58,
   "id": "2d08564b",
   "metadata": {},
   "outputs": [
    {
     "data": {
      "text/plain": [
       "[<matplotlib.lines.Line2D at 0x272065e9ca0>]"
      ]
     },
     "execution_count": 58,
     "metadata": {},
     "output_type": "execute_result"
    },
    {
     "data": {
      "image/png": "[encoded data removed]",
      "text/plain": [
       "<Figure size 432x288 with 1 Axes>"
      ]
     },
     "metadata": {
      "needs_background": "light"
     },
     "output_type": "display_data"
    }
   ],
   "source": [
    "def relu(X):\n",
    "    return tf.maximum(0, X)\n",
    "\n",
    "plt.plot(relu(sample_model))"
   ]
  },
  {
   "cell_type": "code",
   "execution_count": 60,
   "id": "1fbad29f",
   "metadata": {},
   "outputs": [
    {
     "data": {
      "text/plain": [
       "[<matplotlib.lines.Line2D at 0x272066487f0>]"
      ]
     },
     "execution_count": 60,
     "metadata": {},
     "output_type": "execute_result"
    },
    {
     "data": {
      "image/png": "[encoded data removed]",
      "text/plain": [
       "<Figure size 432x288 with 1 Axes>"
      ]
     },
     "metadata": {
      "needs_background": "light"
     },
     "output_type": "display_data"
    }
   ],
   "source": [
    "def sigmoid(X):\n",
    "    return 1/(1+tf.exp(-X))\n",
    "\n",
    "plt.plot(sigmoid(sample_model))"
   ]
  },
  {
   "cell_type": "code",
   "execution_count": 62,
   "id": "84855434",
   "metadata": {},
   "outputs": [
    {
     "data": {
      "text/plain": [
       "[<matplotlib.lines.Line2D at 0x2720669f700>]"
      ]
     },
     "execution_count": 62,
     "metadata": {},
     "output_type": "execute_result"
    },
    {
     "data": {
      "image/png": "[encoded data removed]",
      "text/plain": [
       "<Figure size 432x288 with 1 Axes>"
      ]
     },
     "metadata": {
      "needs_background": "light"
     },
     "output_type": "display_data"
    }
   ],
   "source": [
    "def tanh(x):\n",
    "    return tf.tanh(x)\n",
    "\n",
    "plt.plot(tanh(sample_model))"
   ]
  },
  {
   "cell_type": "code",
   "execution_count": 76,
   "id": "88ab0592",
   "metadata": {},
   "outputs": [],
   "source": [
    "tf.random.set_seed(46)\n",
    "\n",
    "model = Sequential([\n",
    "    layers.Dense(4, activation=keras.activations.relu),\n",
    "    layers.Dense(4, activation=keras.activations.relu),\n",
    "    layers.Dense(1, activation=keras.activations.sigmoid)\n",
    "]\n",
    ")\n",
    "\n",
    "model.compile(\n",
    "    optimizer = keras.optimizers.Adam(),\n",
    "    loss = keras.losses.binary_crossentropy,\n",
    "    metrics=['accuracy']\n",
    "    \n",
    ")"
   ]
  },
  {
   "cell_type": "code",
   "execution_count": 77,
   "id": "e6a77115",
   "metadata": {},
   "outputs": [
    {
     "name": "stdout",
     "output_type": "stream",
     "text": [
      "Epoch 1/50\n",
      "162/162 [==============================] - 2s 3ms/step - loss: 0.5692 - accuracy: 0.7843\n",
      "Epoch 2/50\n",
      "162/162 [==============================] - 0s 2ms/step - loss: 0.4814 - accuracy: 0.8056\n",
      "Epoch 3/50\n",
      "162/162 [==============================] - 0s 2ms/step - loss: 0.4611 - accuracy: 0.8056\n",
      "Epoch 4/50\n",
      "162/162 [==============================] - 0s 2ms/step - loss: 0.4431 - accuracy: 0.8056\n",
      "Epoch 5/50\n",
      "162/162 [==============================] - 0s 2ms/step - loss: 0.4279 - accuracy: 0.8056\n",
      "Epoch 6/50\n",
      "162/162 [==============================] - 0s 2ms/step - loss: 0.4173 - accuracy: 0.8056\n",
      "Epoch 7/50\n",
      "162/162 [==============================] - 0s 2ms/step - loss: 0.4080 - accuracy: 0.8151\n",
      "Epoch 8/50\n",
      "162/162 [==============================] - 0s 2ms/step - loss: 0.4028 - accuracy: 0.8190\n",
      "Epoch 9/50\n",
      "162/162 [==============================] - 0s 2ms/step - loss: 0.3990 - accuracy: 0.8172\n",
      "Epoch 10/50\n",
      "162/162 [==============================] - 0s 2ms/step - loss: 0.3965 - accuracy: 0.8182\n",
      "Epoch 11/50\n",
      "162/162 [==============================] - 0s 2ms/step - loss: 0.3947 - accuracy: 0.8182\n",
      "Epoch 12/50\n",
      "162/162 [==============================] - 0s 2ms/step - loss: 0.3923 - accuracy: 0.8182\n",
      "Epoch 13/50\n",
      "162/162 [==============================] - 0s 2ms/step - loss: 0.3907 - accuracy: 0.8178\n",
      "Epoch 14/50\n",
      "162/162 [==============================] - 0s 2ms/step - loss: 0.3895 - accuracy: 0.8182\n",
      "Epoch 15/50\n",
      "162/162 [==============================] - 0s 2ms/step - loss: 0.3886 - accuracy: 0.8193\n",
      "Epoch 16/50\n",
      "162/162 [==============================] - 0s 2ms/step - loss: 0.3872 - accuracy: 0.8180\n",
      "Epoch 17/50\n",
      "162/162 [==============================] - 0s 2ms/step - loss: 0.3865 - accuracy: 0.8205\n",
      "Epoch 18/50\n",
      "162/162 [==============================] - 0s 2ms/step - loss: 0.3858 - accuracy: 0.8197\n",
      "Epoch 19/50\n",
      "162/162 [==============================] - 0s 2ms/step - loss: 0.3851 - accuracy: 0.8193\n",
      "Epoch 20/50\n",
      "162/162 [==============================] - 0s 2ms/step - loss: 0.3841 - accuracy: 0.8195\n",
      "Epoch 21/50\n",
      "162/162 [==============================] - 0s 2ms/step - loss: 0.3839 - accuracy: 0.8209\n",
      "Epoch 22/50\n",
      "162/162 [==============================] - 0s 2ms/step - loss: 0.3836 - accuracy: 0.8172\n",
      "Epoch 23/50\n",
      "162/162 [==============================] - 0s 2ms/step - loss: 0.3833 - accuracy: 0.8199\n",
      "Epoch 24/50\n",
      "162/162 [==============================] - 0s 2ms/step - loss: 0.3831 - accuracy: 0.8178\n",
      "Epoch 25/50\n",
      "162/162 [==============================] - 0s 2ms/step - loss: 0.3812 - accuracy: 0.8190\n",
      "Epoch 26/50\n",
      "162/162 [==============================] - 1s 4ms/step - loss: 0.3817 - accuracy: 0.8180\n",
      "Epoch 27/50\n",
      "162/162 [==============================] - 0s 2ms/step - loss: 0.3817 - accuracy: 0.8184\n",
      "Epoch 28/50\n",
      "162/162 [==============================] - 0s 2ms/step - loss: 0.3807 - accuracy: 0.8184\n",
      "Epoch 29/50\n",
      "162/162 [==============================] - 0s 2ms/step - loss: 0.3803 - accuracy: 0.8180\n",
      "Epoch 30/50\n",
      "162/162 [==============================] - 0s 2ms/step - loss: 0.3804 - accuracy: 0.8197\n",
      "Epoch 31/50\n",
      "162/162 [==============================] - 0s 2ms/step - loss: 0.3796 - accuracy: 0.8180\n",
      "Epoch 32/50\n",
      "162/162 [==============================] - 0s 2ms/step - loss: 0.3791 - accuracy: 0.8191\n",
      "Epoch 33/50\n",
      "162/162 [==============================] - 0s 2ms/step - loss: 0.3782 - accuracy: 0.8197\n",
      "Epoch 34/50\n",
      "162/162 [==============================] - 0s 2ms/step - loss: 0.3785 - accuracy: 0.8228\n",
      "Epoch 35/50\n",
      "162/162 [==============================] - 0s 2ms/step - loss: 0.3780 - accuracy: 0.8207\n",
      "Epoch 36/50\n",
      "162/162 [==============================] - 0s 2ms/step - loss: 0.3776 - accuracy: 0.8201\n",
      "Epoch 37/50\n",
      "162/162 [==============================] - 0s 2ms/step - loss: 0.3772 - accuracy: 0.8209\n",
      "Epoch 38/50\n",
      "162/162 [==============================] - 0s 2ms/step - loss: 0.3766 - accuracy: 0.8222\n",
      "Epoch 39/50\n",
      "162/162 [==============================] - 0s 2ms/step - loss: 0.3771 - accuracy: 0.8217\n",
      "Epoch 40/50\n",
      "162/162 [==============================] - 0s 2ms/step - loss: 0.3763 - accuracy: 0.8221\n",
      "Epoch 41/50\n",
      "162/162 [==============================] - 0s 2ms/step - loss: 0.3760 - accuracy: 0.8217\n",
      "Epoch 42/50\n",
      "162/162 [==============================] - 0s 2ms/step - loss: 0.3763 - accuracy: 0.8219\n",
      "Epoch 43/50\n",
      "162/162 [==============================] - 0s 2ms/step - loss: 0.3755 - accuracy: 0.8224\n",
      "Epoch 44/50\n",
      "162/162 [==============================] - 0s 2ms/step - loss: 0.3754 - accuracy: 0.8246\n",
      "Epoch 45/50\n",
      "162/162 [==============================] - 0s 2ms/step - loss: 0.3754 - accuracy: 0.8209\n",
      "Epoch 46/50\n",
      "162/162 [==============================] - 0s 2ms/step - loss: 0.3752 - accuracy: 0.8222\n",
      "Epoch 47/50\n",
      "162/162 [==============================] - 0s 2ms/step - loss: 0.3755 - accuracy: 0.8219\n",
      "Epoch 48/50\n",
      "162/162 [==============================] - 0s 2ms/step - loss: 0.3749 - accuracy: 0.8215\n",
      "Epoch 49/50\n",
      "162/162 [==============================] - 0s 2ms/step - loss: 0.3749 - accuracy: 0.8213\n",
      "Epoch 50/50\n",
      "162/162 [==============================] - 0s 2ms/step - loss: 0.3742 - accuracy: 0.8219\n"
     ]
    }
   ],
   "source": [
    "history = model.fit(X_train_normal, y_train, epochs=50)"
   ]
  },
  {
   "cell_type": "code",
   "execution_count": 78,
   "id": "187df2c3",
   "metadata": {},
   "outputs": [
    {
     "name": "stdout",
     "output_type": "stream",
     "text": [
      "162/162 [==============================] - 1s 2ms/step - loss: 0.3754 - accuracy: 0.8190\n"
     ]
    },
    {
     "data": {
      "text/plain": [
       "[0.3753531277179718, 0.8189555406570435]"
      ]
     },
     "execution_count": 78,
     "metadata": {},
     "output_type": "execute_result"
    }
   ],
   "source": [
    "model.evaluate(X_train_normal, y_train)"
   ]
  },
  {
   "cell_type": "code",
   "execution_count": 79,
   "id": "da37c557",
   "metadata": {},
   "outputs": [
    {
     "data": {
      "text/plain": [
       "<AxesSubplot:>"
      ]
     },
     "execution_count": 79,
     "metadata": {},
     "output_type": "execute_result"
    },
    {
     "data": {
      "image/png": "[encoded data removed]",
      "text/plain": [
       "<Figure size 432x288 with 1 Axes>"
      ]
     },
     "metadata": {
      "needs_background": "light"
     },
     "output_type": "display_data"
    }
   ],
   "source": [
    "pd.DataFrame(history.history).plot()"
   ]
  },
  {
   "cell_type": "code",
   "execution_count": 83,
   "id": "dc542c8a",
   "metadata": {},
   "outputs": [
    {
     "data": {
      "text/plain": [
       "<AxesSubplot:>"
      ]
     },
     "execution_count": 83,
     "metadata": {},
     "output_type": "execute_result"
    },
    {
     "data": {
      "image/png": "[encoded data removed]",
      "text/plain": [
       "<Figure size 2160x2160 with 2 Axes>"
      ]
     },
     "metadata": {
      "needs_background": "light"
     },
     "output_type": "display_data"
    }
   ],
   "source": [
    "# plt.figure(figsize=(30, 20))\n",
    "# sb.heatmap(wine_data.corr().abs(),  annot=True)\n",
    "plt.figure(figsize=(30,30))\n",
    "sb.heatmap(winedf.corr().abs(), annot=True)\n"
   ]
  },
  {
   "cell_type": "code",
   "execution_count": 99,
   "id": "c55ebf27",
   "metadata": {},
   "outputs": [],
   "source": [
    "model_1 = Sequential(\n",
    "[\n",
    "    layers.Dense(4, activation='relu'),\n",
    "    layers.Dense(4, activation='relu'),\n",
    "    layers.Dense(1, activation='sigmoid')\n",
    "])\n",
    "\n",
    "model_1.compile(\n",
    "optimizer='adam',\n",
    "    loss='binary_crossentropy',\n",
    "    metrics=['accuracy']\n",
    ")\n",
    "\n",
    "scheduler = tf.keras.callbacks.LearningRateScheduler(lambda epoch: 1e-4 * 10**(epoch/20))\n",
    "\n",
    "\n"
   ]
  },
  {
   "cell_type": "code",
   "execution_count": 103,
   "id": "5a512275",
   "metadata": {},
   "outputs": [
    {
     "name": "stdout",
     "output_type": "stream",
     "text": [
      "Epoch 1/100\n",
      "162/162 [==============================] - 0s 2ms/step - loss: 0.3697 - accuracy: 0.8294 - lr: 1.0000e-04\n",
      "Epoch 2/100\n",
      "162/162 [==============================] - 0s 2ms/step - loss: 0.3676 - accuracy: 0.8327 - lr: 1.1220e-04\n",
      "Epoch 3/100\n",
      "162/162 [==============================] - 0s 2ms/step - loss: 0.3667 - accuracy: 0.8327 - lr: 1.2589e-04\n",
      "Epoch 4/100\n",
      "162/162 [==============================] - 0s 2ms/step - loss: 0.3662 - accuracy: 0.8317 - lr: 1.4125e-04\n",
      "Epoch 5/100\n",
      "162/162 [==============================] - 0s 2ms/step - loss: 0.3656 - accuracy: 0.8323 - lr: 1.5849e-04\n",
      "Epoch 6/100\n",
      "162/162 [==============================] - 0s 2ms/step - loss: 0.3651 - accuracy: 0.8352 - lr: 1.7783e-04\n",
      "Epoch 7/100\n",
      "162/162 [==============================] - 0s 2ms/step - loss: 0.3646 - accuracy: 0.8337 - lr: 1.9953e-04\n",
      "Epoch 8/100\n",
      "162/162 [==============================] - 0s 2ms/step - loss: 0.3640 - accuracy: 0.8342 - lr: 2.2387e-04\n",
      "Epoch 9/100\n",
      "162/162 [==============================] - 0s 3ms/step - loss: 0.3636 - accuracy: 0.8346 - lr: 2.5119e-04\n",
      "Epoch 10/100\n",
      "162/162 [==============================] - 0s 2ms/step - loss: 0.3635 - accuracy: 0.8327 - lr: 2.8184e-04\n",
      "Epoch 11/100\n",
      "162/162 [==============================] - 0s 2ms/step - loss: 0.3632 - accuracy: 0.8315 - lr: 3.1623e-04\n",
      "Epoch 12/100\n",
      "162/162 [==============================] - 0s 2ms/step - loss: 0.3629 - accuracy: 0.8309 - lr: 3.5481e-04\n",
      "Epoch 13/100\n",
      "162/162 [==============================] - 0s 2ms/step - loss: 0.3628 - accuracy: 0.8309 - lr: 3.9811e-04\n",
      "Epoch 14/100\n",
      "162/162 [==============================] - 0s 2ms/step - loss: 0.3625 - accuracy: 0.8309 - lr: 4.4668e-04\n",
      "Epoch 15/100\n",
      "162/162 [==============================] - 0s 2ms/step - loss: 0.3625 - accuracy: 0.8319 - lr: 5.0119e-04\n",
      "Epoch 16/100\n",
      "162/162 [==============================] - 0s 2ms/step - loss: 0.3621 - accuracy: 0.8309 - lr: 5.6234e-04\n",
      "Epoch 17/100\n",
      "162/162 [==============================] - 0s 2ms/step - loss: 0.3620 - accuracy: 0.8290 - lr: 6.3096e-04\n",
      "Epoch 18/100\n",
      "162/162 [==============================] - 0s 2ms/step - loss: 0.3618 - accuracy: 0.8294 - lr: 7.0795e-04\n",
      "Epoch 19/100\n",
      "162/162 [==============================] - 0s 2ms/step - loss: 0.3616 - accuracy: 0.8319 - lr: 7.9433e-04\n",
      "Epoch 20/100\n",
      "162/162 [==============================] - 0s 2ms/step - loss: 0.3615 - accuracy: 0.8296 - lr: 8.9125e-04\n",
      "Epoch 21/100\n",
      "162/162 [==============================] - 0s 2ms/step - loss: 0.3615 - accuracy: 0.8317 - lr: 0.0010\n",
      "Epoch 22/100\n",
      "162/162 [==============================] - 0s 2ms/step - loss: 0.3614 - accuracy: 0.8308 - lr: 0.0011\n",
      "Epoch 23/100\n",
      "162/162 [==============================] - 0s 2ms/step - loss: 0.3617 - accuracy: 0.8317 - lr: 0.0013\n",
      "Epoch 24/100\n",
      "162/162 [==============================] - 0s 2ms/step - loss: 0.3617 - accuracy: 0.8308 - lr: 0.0014\n",
      "Epoch 25/100\n",
      "162/162 [==============================] - 0s 2ms/step - loss: 0.3606 - accuracy: 0.8315 - lr: 0.0016\n",
      "Epoch 26/100\n",
      "162/162 [==============================] - 0s 2ms/step - loss: 0.3615 - accuracy: 0.8319 - lr: 0.0018\n",
      "Epoch 27/100\n",
      "162/162 [==============================] - 0s 2ms/step - loss: 0.3615 - accuracy: 0.8313 - lr: 0.0020\n",
      "Epoch 28/100\n",
      "162/162 [==============================] - 0s 3ms/step - loss: 0.3607 - accuracy: 0.8300 - lr: 0.0022\n",
      "Epoch 29/100\n",
      "162/162 [==============================] - 0s 2ms/step - loss: 0.3605 - accuracy: 0.8321 - lr: 0.0025\n",
      "Epoch 30/100\n",
      "162/162 [==============================] - 0s 2ms/step - loss: 0.3615 - accuracy: 0.8325 - lr: 0.0028\n",
      "Epoch 31/100\n",
      "162/162 [==============================] - 0s 2ms/step - loss: 0.3609 - accuracy: 0.8309 - lr: 0.0032\n",
      "Epoch 32/100\n",
      "162/162 [==============================] - 0s 2ms/step - loss: 0.3602 - accuracy: 0.8306 - lr: 0.0035\n",
      "Epoch 33/100\n",
      "162/162 [==============================] - 0s 2ms/step - loss: 0.3597 - accuracy: 0.8329 - lr: 0.0040\n",
      "Epoch 34/100\n",
      "162/162 [==============================] - 0s 2ms/step - loss: 0.3615 - accuracy: 0.8277 - lr: 0.0045\n",
      "Epoch 35/100\n",
      "162/162 [==============================] - 0s 2ms/step - loss: 0.3600 - accuracy: 0.8311 - lr: 0.0050\n",
      "Epoch 36/100\n",
      "162/162 [==============================] - 0s 2ms/step - loss: 0.3611 - accuracy: 0.8308 - lr: 0.0056\n",
      "Epoch 37/100\n",
      "162/162 [==============================] - 0s 2ms/step - loss: 0.3605 - accuracy: 0.8298 - lr: 0.0063\n",
      "Epoch 38/100\n",
      "162/162 [==============================] - 0s 2ms/step - loss: 0.3587 - accuracy: 0.8335 - lr: 0.0071\n",
      "Epoch 39/100\n",
      "162/162 [==============================] - 0s 2ms/step - loss: 0.3624 - accuracy: 0.8248 - lr: 0.0079\n",
      "Epoch 40/100\n",
      "162/162 [==============================] - 0s 2ms/step - loss: 0.3623 - accuracy: 0.8311 - lr: 0.0089\n",
      "Epoch 41/100\n",
      "162/162 [==============================] - 0s 2ms/step - loss: 0.3604 - accuracy: 0.8333 - lr: 0.0100\n",
      "Epoch 42/100\n",
      "162/162 [==============================] - 0s 2ms/step - loss: 0.3617 - accuracy: 0.8323 - lr: 0.0112\n",
      "Epoch 43/100\n",
      "162/162 [==============================] - 0s 3ms/step - loss: 0.3592 - accuracy: 0.8340 - lr: 0.0126\n",
      "Epoch 44/100\n",
      "162/162 [==============================] - 0s 3ms/step - loss: 0.3637 - accuracy: 0.8304 - lr: 0.0141\n",
      "Epoch 45/100\n",
      "162/162 [==============================] - 0s 2ms/step - loss: 0.3648 - accuracy: 0.8190 - lr: 0.0158\n",
      "Epoch 46/100\n",
      "162/162 [==============================] - 0s 3ms/step - loss: 0.3769 - accuracy: 0.8242 - lr: 0.0178\n",
      "Epoch 47/100\n",
      "162/162 [==============================] - 0s 2ms/step - loss: 0.3686 - accuracy: 0.8259 - lr: 0.0200\n",
      "Epoch 48/100\n",
      "162/162 [==============================] - 0s 2ms/step - loss: 0.3655 - accuracy: 0.8271 - lr: 0.0224\n",
      "Epoch 49/100\n",
      "162/162 [==============================] - 0s 2ms/step - loss: 0.3668 - accuracy: 0.8240 - lr: 0.0251\n",
      "Epoch 50/100\n",
      "162/162 [==============================] - 0s 2ms/step - loss: 0.3761 - accuracy: 0.8178 - lr: 0.0282\n",
      "Epoch 51/100\n",
      "162/162 [==============================] - 0s 2ms/step - loss: 0.3739 - accuracy: 0.8232 - lr: 0.0316\n",
      "Epoch 52/100\n",
      "162/162 [==============================] - 0s 2ms/step - loss: 0.3788 - accuracy: 0.8170 - lr: 0.0355\n",
      "Epoch 53/100\n",
      "162/162 [==============================] - 0s 2ms/step - loss: 0.3764 - accuracy: 0.8215 - lr: 0.0398\n",
      "Epoch 54/100\n",
      "162/162 [==============================] - 0s 2ms/step - loss: 0.3757 - accuracy: 0.8238 - lr: 0.0447\n",
      "Epoch 55/100\n",
      "162/162 [==============================] - 0s 2ms/step - loss: 0.3804 - accuracy: 0.8145 - lr: 0.0501\n",
      "Epoch 56/100\n",
      "162/162 [==============================] - 0s 2ms/step - loss: 0.3807 - accuracy: 0.8213 - lr: 0.0562\n",
      "Epoch 57/100\n",
      "162/162 [==============================] - 0s 2ms/step - loss: 0.3816 - accuracy: 0.8184 - lr: 0.0631\n",
      "Epoch 58/100\n",
      "162/162 [==============================] - 0s 3ms/step - loss: 0.3714 - accuracy: 0.8286 - lr: 0.0708\n",
      "Epoch 59/100\n",
      "162/162 [==============================] - 0s 2ms/step - loss: 0.3796 - accuracy: 0.8242 - lr: 0.0794\n",
      "Epoch 60/100\n",
      "162/162 [==============================] - 0s 2ms/step - loss: 0.3852 - accuracy: 0.8182 - lr: 0.0891\n",
      "Epoch 61/100\n",
      "162/162 [==============================] - 0s 2ms/step - loss: 0.3847 - accuracy: 0.8248 - lr: 0.1000\n",
      "Epoch 62/100\n",
      "162/162 [==============================] - 0s 2ms/step - loss: 0.4016 - accuracy: 0.8099 - lr: 0.1122\n",
      "Epoch 63/100\n",
      "162/162 [==============================] - 0s 2ms/step - loss: 0.3965 - accuracy: 0.8197 - lr: 0.1259\n",
      "Epoch 64/100\n",
      "162/162 [==============================] - 0s 2ms/step - loss: 0.3996 - accuracy: 0.8164 - lr: 0.1413\n",
      "Epoch 65/100\n",
      "162/162 [==============================] - 0s 2ms/step - loss: 0.4004 - accuracy: 0.8201 - lr: 0.1585\n",
      "Epoch 66/100\n",
      "162/162 [==============================] - 0s 2ms/step - loss: 0.4094 - accuracy: 0.8120 - lr: 0.1778\n",
      "Epoch 67/100\n",
      "162/162 [==============================] - 0s 2ms/step - loss: 0.4019 - accuracy: 0.8159 - lr: 0.1995\n",
      "Epoch 68/100\n",
      "162/162 [==============================] - 0s 2ms/step - loss: 0.4130 - accuracy: 0.8135 - lr: 0.2239\n",
      "Epoch 69/100\n",
      "162/162 [==============================] - 0s 2ms/step - loss: 0.4239 - accuracy: 0.8031 - lr: 0.2512\n",
      "Epoch 70/100\n",
      "162/162 [==============================] - 0s 3ms/step - loss: 0.4089 - accuracy: 0.8093 - lr: 0.2818\n",
      "Epoch 71/100\n"
     ]
    },
    {
     "name": "stdout",
     "output_type": "stream",
     "text": [
      "162/162 [==============================] - 0s 2ms/step - loss: 0.4248 - accuracy: 0.8021 - lr: 0.3162\n",
      "Epoch 72/100\n",
      "162/162 [==============================] - 0s 2ms/step - loss: 0.4227 - accuracy: 0.8015 - lr: 0.3548\n",
      "Epoch 73/100\n",
      "162/162 [==============================] - 0s 2ms/step - loss: 0.4424 - accuracy: 0.8033 - lr: 0.3981\n",
      "Epoch 74/100\n",
      "162/162 [==============================] - 0s 2ms/step - loss: 0.4303 - accuracy: 0.8037 - lr: 0.4467\n",
      "Epoch 75/100\n",
      "162/162 [==============================] - 0s 2ms/step - loss: 0.4879 - accuracy: 0.8056 - lr: 0.5012\n",
      "Epoch 76/100\n",
      "162/162 [==============================] - 0s 2ms/step - loss: 0.4894 - accuracy: 0.8060 - lr: 0.5623\n",
      "Epoch 77/100\n",
      "162/162 [==============================] - 0s 2ms/step - loss: 0.4988 - accuracy: 0.8056 - lr: 0.6310\n",
      "Epoch 78/100\n",
      "162/162 [==============================] - 0s 2ms/step - loss: 0.5045 - accuracy: 0.8056 - lr: 0.7079\n",
      "Epoch 79/100\n",
      "162/162 [==============================] - 0s 2ms/step - loss: 0.5050 - accuracy: 0.8056 - lr: 0.7943\n",
      "Epoch 80/100\n",
      "162/162 [==============================] - 0s 2ms/step - loss: 0.5072 - accuracy: 0.8056 - lr: 0.8913\n",
      "Epoch 81/100\n",
      "162/162 [==============================] - 0s 2ms/step - loss: 0.5168 - accuracy: 0.8056 - lr: 1.0000\n",
      "Epoch 82/100\n",
      "162/162 [==============================] - 0s 2ms/step - loss: 0.5076 - accuracy: 0.8056 - lr: 1.1220\n",
      "Epoch 83/100\n",
      "162/162 [==============================] - 0s 3ms/step - loss: 0.5064 - accuracy: 0.8056 - lr: 1.2589\n",
      "Epoch 84/100\n",
      "162/162 [==============================] - 0s 2ms/step - loss: 0.5073 - accuracy: 0.8056 - lr: 1.4125\n",
      "Epoch 85/100\n",
      "162/162 [==============================] - 0s 2ms/step - loss: 0.5243 - accuracy: 0.8056 - lr: 1.5849\n",
      "Epoch 86/100\n",
      "162/162 [==============================] - 0s 2ms/step - loss: 0.5091 - accuracy: 0.8056 - lr: 1.7783\n",
      "Epoch 87/100\n",
      "162/162 [==============================] - 0s 2ms/step - loss: 0.5134 - accuracy: 0.8056 - lr: 1.9953\n",
      "Epoch 88/100\n",
      "162/162 [==============================] - 0s 2ms/step - loss: 0.5081 - accuracy: 0.8056 - lr: 2.2387\n",
      "Epoch 89/100\n",
      "162/162 [==============================] - 0s 2ms/step - loss: 0.5454 - accuracy: 0.8056 - lr: 2.5119\n",
      "Epoch 90/100\n",
      "162/162 [==============================] - 0s 2ms/step - loss: 0.5215 - accuracy: 0.8056 - lr: 2.8184\n",
      "Epoch 91/100\n",
      "162/162 [==============================] - 0s 2ms/step - loss: 0.5174 - accuracy: 0.7983 - lr: 3.1623\n",
      "Epoch 92/100\n",
      "162/162 [==============================] - 0s 2ms/step - loss: 0.5435 - accuracy: 0.7878 - lr: 3.5481\n",
      "Epoch 93/100\n",
      "162/162 [==============================] - 0s 2ms/step - loss: 0.5333 - accuracy: 0.8025 - lr: 3.9811\n",
      "Epoch 94/100\n",
      "162/162 [==============================] - 0s 2ms/step - loss: 0.5231 - accuracy: 0.8056 - lr: 4.4668\n",
      "Epoch 95/100\n",
      "162/162 [==============================] - 0s 2ms/step - loss: 0.5408 - accuracy: 0.8010 - lr: 5.0119\n",
      "Epoch 96/100\n",
      "162/162 [==============================] - 0s 2ms/step - loss: 0.5900 - accuracy: 0.7793 - lr: 5.6234\n",
      "Epoch 97/100\n",
      "162/162 [==============================] - 0s 2ms/step - loss: 0.5402 - accuracy: 0.7882 - lr: 6.3096\n",
      "Epoch 98/100\n",
      "162/162 [==============================] - 0s 2ms/step - loss: 0.5554 - accuracy: 0.7897 - lr: 7.0795\n",
      "Epoch 99/100\n",
      "162/162 [==============================] - 0s 2ms/step - loss: 0.5698 - accuracy: 0.7770 - lr: 7.9433\n",
      "Epoch 100/100\n",
      "162/162 [==============================] - 0s 2ms/step - loss: 0.5428 - accuracy: 0.7867 - lr: 8.9125\n"
     ]
    }
   ],
   "source": [
    "history_1 = model_1.fit(X_train_normal, y_train, epochs=100, callbacks=[scheduler])\n"
   ]
  },
  {
   "cell_type": "code",
   "execution_count": 104,
   "id": "5abcb2f7",
   "metadata": {},
   "outputs": [
    {
     "data": {
      "text/plain": [
       "Text(0, 0.5, 'Loss')"
      ]
     },
     "execution_count": 104,
     "metadata": {},
     "output_type": "execute_result"
    },
    {
     "data": {
      "image/png": "[encoded data removed]",
      "text/plain": [
       "<Figure size 1440x720 with 1 Axes>"
      ]
     },
     "metadata": {
      "needs_background": "light"
     },
     "output_type": "display_data"
    }
   ],
   "source": [
    "lrs = 1e-4 * (10 ** (tf.range(100)/20))\n",
    "plt.figure(figsize=(20, 10))\n",
    "plt.semilogx(lrs, history_1.history['loss'])\n",
    "plt.xlabel(\"Learning Rate\")\n",
    "plt.ylabel(\"Loss\")"
   ]
  },
  {
   "cell_type": "code",
   "execution_count": 106,
   "id": "4fb963a1",
   "metadata": {},
   "outputs": [
    {
     "name": "stdout",
     "output_type": "stream",
     "text": [
      "Downloading data from https://storage.googleapis.com/tensorflow/tf-keras-datasets/mnist.npz\n",
      "11490434/11490434 [==============================] - 3s 0us/step\n"
     ]
    }
   ],
   "source": [
    "mnist = keras.datasets.mnist\n",
    "(X_train,y_train), (X_test,y_test) = mnist.load_data()"
   ]
  },
  {
   "cell_type": "code",
   "execution_count": 108,
   "id": "c38059e5",
   "metadata": {},
   "outputs": [
    {
     "data": {
      "text/plain": [
       "<matplotlib.image.AxesImage at 0x27208848250>"
      ]
     },
     "execution_count": 108,
     "metadata": {},
     "output_type": "execute_result"
    },
    {
     "data": {
      "image/png": "[encoded data removed]",
      "text/plain": [
       "<Figure size 432x288 with 1 Axes>"
      ]
     },
     "metadata": {
      "needs_background": "light"
     },
     "output_type": "display_data"
    }
   ],
   "source": [
    "plt.imshow(X_train[0], cmap='gray')\n"
   ]
  },
  {
   "cell_type": "code",
   "execution_count": 118,
   "id": "89f54a5e",
   "metadata": {},
   "outputs": [],
   "source": [
    "# X_train = keras.utils.normalize(X_train, axis=1)\n",
    "# X_test = keras.utils.normalize(X_test, axis=1)\n",
    "X_train = tf.keras.utils.normalize(X_train, axis=1)\n",
    "X_test = tf.keras.utils.normalize(X_test, axis=1)\n"
   ]
  },
  {
   "cell_type": "code",
   "execution_count": null,
   "id": "99ed79bc",
   "metadata": {},
   "outputs": [],
   "source": []
  },
  {
   "cell_type": "code",
   "execution_count": 120,
   "id": "ced2139b",
   "metadata": {},
   "outputs": [
    {
     "data": {
      "text/plain": [
       "array([0, 1, 2, 3, 4, 5, 6, 7, 8, 9], dtype=uint8)"
      ]
     },
     "execution_count": 120,
     "metadata": {},
     "output_type": "execute_result"
    }
   ],
   "source": [
    "import numpy as np\n",
    "\n",
    "np.unique(y_test)"
   ]
  },
  {
   "cell_type": "code",
   "execution_count": 121,
   "id": "7d7f2032",
   "metadata": {},
   "outputs": [],
   "source": [
    "label_names = np.unique(y_test)"
   ]
  },
  {
   "cell_type": "code",
   "execution_count": 124,
   "id": "0ac85563",
   "metadata": {},
   "outputs": [
    {
     "name": "stdout",
     "output_type": "stream",
     "text": [
      "Epoch 1/50\n",
      "1875/1875 [==============================] - 6s 3ms/step - loss: 0.4407 - accuracy: 0.8730 - val_loss: 0.2655 - val_accuracy: 0.9230\n",
      "Epoch 2/50\n",
      "1875/1875 [==============================] - 5s 3ms/step - loss: 0.2407 - accuracy: 0.9291 - val_loss: 0.2235 - val_accuracy: 0.9317\n",
      "Epoch 3/50\n",
      "1875/1875 [==============================] - 5s 3ms/step - loss: 0.2035 - accuracy: 0.9400 - val_loss: 0.2081 - val_accuracy: 0.9384\n",
      "Epoch 4/50\n",
      "1875/1875 [==============================] - 4s 2ms/step - loss: 0.1784 - accuracy: 0.9466 - val_loss: 0.1835 - val_accuracy: 0.9429\n",
      "Epoch 5/50\n",
      "1875/1875 [==============================] - 4s 2ms/step - loss: 0.1616 - accuracy: 0.9517 - val_loss: 0.1682 - val_accuracy: 0.9494\n",
      "Epoch 6/50\n",
      "1875/1875 [==============================] - 5s 3ms/step - loss: 0.1471 - accuracy: 0.9552 - val_loss: 0.1648 - val_accuracy: 0.9486\n",
      "Epoch 7/50\n",
      "1875/1875 [==============================] - 4s 2ms/step - loss: 0.1369 - accuracy: 0.9581 - val_loss: 0.1544 - val_accuracy: 0.9517\n",
      "Epoch 8/50\n",
      "1875/1875 [==============================] - 5s 3ms/step - loss: 0.1272 - accuracy: 0.9619 - val_loss: 0.1545 - val_accuracy: 0.9540\n",
      "Epoch 9/50\n",
      "1875/1875 [==============================] - 5s 3ms/step - loss: 0.1202 - accuracy: 0.9626 - val_loss: 0.1480 - val_accuracy: 0.9565\n",
      "Epoch 10/50\n",
      "1875/1875 [==============================] - 6s 3ms/step - loss: 0.1149 - accuracy: 0.9643 - val_loss: 0.1522 - val_accuracy: 0.9553\n",
      "Epoch 11/50\n",
      "1875/1875 [==============================] - 5s 3ms/step - loss: 0.1100 - accuracy: 0.9659 - val_loss: 0.1540 - val_accuracy: 0.9529\n",
      "Epoch 12/50\n",
      "1875/1875 [==============================] - 5s 3ms/step - loss: 0.1048 - accuracy: 0.9671 - val_loss: 0.1506 - val_accuracy: 0.9544\n",
      "Epoch 13/50\n",
      "1875/1875 [==============================] - 5s 3ms/step - loss: 0.1009 - accuracy: 0.9691 - val_loss: 0.1504 - val_accuracy: 0.9547\n",
      "Epoch 14/50\n",
      "1875/1875 [==============================] - 5s 3ms/step - loss: 0.0983 - accuracy: 0.9696 - val_loss: 0.1528 - val_accuracy: 0.9563\n",
      "Epoch 15/50\n",
      "1875/1875 [==============================] - 5s 3ms/step - loss: 0.0944 - accuracy: 0.9704 - val_loss: 0.1531 - val_accuracy: 0.9551\n",
      "Epoch 16/50\n",
      "1875/1875 [==============================] - 5s 3ms/step - loss: 0.0909 - accuracy: 0.9721 - val_loss: 0.1478 - val_accuracy: 0.9560\n",
      "Epoch 17/50\n",
      "1875/1875 [==============================] - 5s 3ms/step - loss: 0.0893 - accuracy: 0.9716 - val_loss: 0.1481 - val_accuracy: 0.9576\n",
      "Epoch 18/50\n",
      "1875/1875 [==============================] - 5s 3ms/step - loss: 0.0859 - accuracy: 0.9731 - val_loss: 0.1547 - val_accuracy: 0.9551\n",
      "Epoch 19/50\n",
      "1875/1875 [==============================] - 5s 3ms/step - loss: 0.0839 - accuracy: 0.9740 - val_loss: 0.1488 - val_accuracy: 0.9582\n",
      "Epoch 20/50\n",
      "1875/1875 [==============================] - 5s 3ms/step - loss: 0.0818 - accuracy: 0.9744 - val_loss: 0.1527 - val_accuracy: 0.9570\n",
      "Epoch 21/50\n",
      "1875/1875 [==============================] - 5s 3ms/step - loss: 0.0797 - accuracy: 0.9745 - val_loss: 0.1591 - val_accuracy: 0.9588\n",
      "Epoch 22/50\n",
      "1875/1875 [==============================] - 5s 3ms/step - loss: 0.0780 - accuracy: 0.9753 - val_loss: 0.1540 - val_accuracy: 0.9580\n",
      "Epoch 23/50\n",
      "1875/1875 [==============================] - 5s 3ms/step - loss: 0.0757 - accuracy: 0.9758 - val_loss: 0.1642 - val_accuracy: 0.9560\n",
      "Epoch 24/50\n",
      "1875/1875 [==============================] - 5s 3ms/step - loss: 0.0740 - accuracy: 0.9768 - val_loss: 0.1701 - val_accuracy: 0.9547\n",
      "Epoch 25/50\n",
      "1875/1875 [==============================] - 5s 3ms/step - loss: 0.0727 - accuracy: 0.9765 - val_loss: 0.1620 - val_accuracy: 0.9559\n",
      "Epoch 26/50\n",
      "1875/1875 [==============================] - 5s 3ms/step - loss: 0.0697 - accuracy: 0.9777 - val_loss: 0.1598 - val_accuracy: 0.9567\n",
      "Epoch 27/50\n",
      "1875/1875 [==============================] - 5s 3ms/step - loss: 0.0684 - accuracy: 0.9783 - val_loss: 0.1604 - val_accuracy: 0.9582\n",
      "Epoch 28/50\n",
      "1875/1875 [==============================] - 5s 3ms/step - loss: 0.0669 - accuracy: 0.9782 - val_loss: 0.1609 - val_accuracy: 0.9572\n",
      "Epoch 29/50\n",
      "1875/1875 [==============================] - 5s 3ms/step - loss: 0.0659 - accuracy: 0.9790 - val_loss: 0.1643 - val_accuracy: 0.9567\n",
      "Epoch 30/50\n",
      "1875/1875 [==============================] - 5s 3ms/step - loss: 0.0638 - accuracy: 0.9799 - val_loss: 0.1765 - val_accuracy: 0.9545\n",
      "Epoch 31/50\n",
      "1875/1875 [==============================] - 5s 3ms/step - loss: 0.0636 - accuracy: 0.9795 - val_loss: 0.1661 - val_accuracy: 0.9563\n",
      "Epoch 32/50\n",
      "1875/1875 [==============================] - 5s 3ms/step - loss: 0.0615 - accuracy: 0.9804 - val_loss: 0.1679 - val_accuracy: 0.9560\n",
      "Epoch 33/50\n",
      "1875/1875 [==============================] - 6s 3ms/step - loss: 0.0600 - accuracy: 0.9811 - val_loss: 0.1774 - val_accuracy: 0.9555\n",
      "Epoch 34/50\n",
      "1875/1875 [==============================] - 5s 3ms/step - loss: 0.0596 - accuracy: 0.9814 - val_loss: 0.1696 - val_accuracy: 0.9574\n",
      "Epoch 35/50\n",
      "1875/1875 [==============================] - 5s 2ms/step - loss: 0.0583 - accuracy: 0.9816 - val_loss: 0.1742 - val_accuracy: 0.9578\n",
      "Epoch 36/50\n",
      "1875/1875 [==============================] - 5s 2ms/step - loss: 0.0571 - accuracy: 0.9816 - val_loss: 0.1742 - val_accuracy: 0.9559\n",
      "Epoch 37/50\n",
      "1875/1875 [==============================] - 5s 3ms/step - loss: 0.0561 - accuracy: 0.9819 - val_loss: 0.1796 - val_accuracy: 0.9574\n",
      "Epoch 38/50\n",
      "1875/1875 [==============================] - 5s 3ms/step - loss: 0.0547 - accuracy: 0.9826 - val_loss: 0.1814 - val_accuracy: 0.9536\n",
      "Epoch 39/50\n",
      "1875/1875 [==============================] - 5s 3ms/step - loss: 0.0547 - accuracy: 0.9825 - val_loss: 0.1824 - val_accuracy: 0.9564\n",
      "Epoch 40/50\n",
      "1875/1875 [==============================] - 5s 3ms/step - loss: 0.0524 - accuracy: 0.9832 - val_loss: 0.1880 - val_accuracy: 0.9546\n",
      "Epoch 41/50\n",
      "1875/1875 [==============================] - 5s 3ms/step - loss: 0.0526 - accuracy: 0.9827 - val_loss: 0.1869 - val_accuracy: 0.9566\n",
      "Epoch 42/50\n",
      "1875/1875 [==============================] - 5s 3ms/step - loss: 0.0509 - accuracy: 0.9842 - val_loss: 0.1830 - val_accuracy: 0.9566\n",
      "Epoch 43/50\n",
      "1875/1875 [==============================] - 5s 3ms/step - loss: 0.0502 - accuracy: 0.9840 - val_loss: 0.1875 - val_accuracy: 0.9542\n",
      "Epoch 44/50\n",
      "1875/1875 [==============================] - 5s 3ms/step - loss: 0.0496 - accuracy: 0.9840 - val_loss: 0.1921 - val_accuracy: 0.9579\n",
      "Epoch 45/50\n",
      "1875/1875 [==============================] - 5s 3ms/step - loss: 0.0482 - accuracy: 0.9847 - val_loss: 0.1955 - val_accuracy: 0.9548\n",
      "Epoch 46/50\n",
      "1875/1875 [==============================] - 5s 3ms/step - loss: 0.0472 - accuracy: 0.9852 - val_loss: 0.1983 - val_accuracy: 0.9546\n",
      "Epoch 47/50\n",
      "1875/1875 [==============================] - 5s 3ms/step - loss: 0.0471 - accuracy: 0.9851 - val_loss: 0.1970 - val_accuracy: 0.9564\n",
      "Epoch 48/50\n",
      "1875/1875 [==============================] - 5s 3ms/step - loss: 0.0462 - accuracy: 0.9851 - val_loss: 0.2146 - val_accuracy: 0.9479\n",
      "Epoch 49/50\n",
      "1875/1875 [==============================] - 5s 3ms/step - loss: 0.0457 - accuracy: 0.9853 - val_loss: 0.2084 - val_accuracy: 0.9539\n",
      "Epoch 50/50\n",
      "1875/1875 [==============================] - 5s 3ms/step - loss: 0.0443 - accuracy: 0.9857 - val_loss: 0.2055 - val_accuracy: 0.9546\n"
     ]
    }
   ],
   "source": [
    "tf.random.set_seed(66)\n",
    "\n",
    "model_img = Sequential([\n",
    "    layers.Flatten(input_shape=(28,28)),\n",
    "    layers.Dense(16, activation='relu'),\n",
    "    layers.Dense(32, activation='relu'),\n",
    "    layers.Dense(10, activation='softmax')\n",
    "])\n",
    "\n",
    "model_img.compile(\n",
    "    optimizer = keras.optimizers.Adam(),\n",
    "    loss = keras.losses.SparseCategoricalCrossentropy(),\n",
    "    metrics = ['accuracy']\n",
    "\n",
    ")\n",
    "\n",
    "history_img = model_img.fit(\n",
    "    x = X_train,\n",
    "    y = y_train,\n",
    "    epochs=50,\n",
    "    validation_data = (X_test,y_test)\n",
    "\n",
    ")"
   ]
  },
  {
   "cell_type": "code",
   "execution_count": 125,
   "id": "9adcee5e",
   "metadata": {},
   "outputs": [],
   "source": [
    "scheduler = tf.keras.callbacks.LearningRateScheduler(lambda epoch: 1e-3 * 10**(epoch/20))\n",
    "history_2 = model_img.fit(x=X_train, y=y_train, epochs=50, callbacks=[scheduler], validation_data=(X_test, y_test))"
   ]
  },
  {
   "cell_type": "code",
   "execution_count": 126,
   "id": "79e3570d",
   "metadata": {},
   "outputs": [
    {
     "name": "stdout",
     "output_type": "stream",
     "text": [
      "313/313 [==============================] - 1s 2ms/step\n"
     ]
    },
    {
     "data": {
      "text/plain": [
       "array([1.1217490e-16, 7.4671384e-15, 2.0031006e-09, 9.8135741e-04,\n",
       "       3.1499600e-17, 9.0935295e-09, 2.0905093e-27, 9.9901867e-01,\n",
       "       1.1020814e-08, 3.0561132e-08], dtype=float32)"
      ]
     },
     "execution_count": 126,
     "metadata": {},
     "output_type": "execute_result"
    }
   ],
   "source": [
    "y_prob = model_img.predict(X_test) \n",
    "y_prob[0]"
   ]
  },
  {
   "cell_type": "code",
   "execution_count": 134,
   "id": "bace5332",
   "metadata": {},
   "outputs": [
    {
     "name": "stdout",
     "output_type": "stream",
     "text": [
      "the output no. is  1\n"
     ]
    }
   ],
   "source": [
    "def predict(x):\n",
    "    y = label_names[tf.argmax(y_prob[int(x)])]\n",
    "    print('the output no. is ', str(y))\n",
    "\n",
    "predict(2)"
   ]
  },
  {
   "cell_type": "code",
   "execution_count": null,
   "id": "09d71803",
   "metadata": {},
   "outputs": [],
   "source": []
  }
 ],
 "metadata": {
  "kernelspec": {
   "display_name": "Python 3 (ipykernel)",
   "language": "python",
   "name": "python3"
  },
  "language_info": {
   "codemirror_mode": {
    "name": "ipython",
    "version": 3
   },
   "file_extension": ".py",
   "mimetype": "text/x-python",
   "name": "python",
   "nbconvert_exporter": "python",
   "pygments_lexer": "ipython3",
   "version": "3.9.12"
  }
 },
 "nbformat": 4,
 "nbformat_minor": 5
}
